{
 "cells": [
  {
   "cell_type": "code",
   "execution_count": 4,
   "id": "bfda8383",
   "metadata": {},
   "outputs": [],
   "source": [
    "import pandas as pd\n",
    "from datetime import datetime, timezone,timedelta,date\n",
    "import numpy as np\n",
    "import matplotlib.pyplot as plt\n",
    "import matplotlib.dates as mdates\n",
    "import matplotlib.ticker as ticker\n",
    "import seaborn as sns\n",
    "from itertools import islice\n",
    "import json\n",
    "from web3 import Web3\n",
    "import matplotlib.ticker as mtick\n",
    "path = \"\"\n",
    "path_output=\"\""
   ]
  },
  {
   "cell_type": "code",
   "execution_count": 2,
   "id": "1ee1aa23",
   "metadata": {},
   "outputs": [],
   "source": [
    "inch_address=['0xe4c577bdec9ce0f6c54f2f82aed5b1913b71ae2f', \n",
    "            '0x0000000006adbd7c01bc0738cdbfc3932600ad63', \n",
    "            '0x0000000053d411becdb4a82d8603edc6d8b8b3bc',\n",
    "            '0x000005edbbc1f258302add96b5e20d3442e5dd89', \n",
    "            '0x0000000f8ef4be2b7aed6724e893c1b674b9682d',\n",
    "            '0x111112549cfedf7822eb11fbd8fd485d8a10f93f',\n",
    "            '0x111111254b08ceeee8ad6ca827de9952d2a46781', \n",
    "            '0x11111254369792b2ca5d084ab5eea397ca8fa48b', \n",
    "            '0x111111125434b319222cdbf8c261674adb56f3ae', \n",
    "            '0x11111112542d85b3ef69ae05771c2dccff4faa26', \n",
    "            '0x1111111254fb6c44bac0bed2854e76f90643097d', \n",
    "            '0x1111111254eeb25477b68fb85ed929f73a960582']"
   ]
  },
  {
   "cell_type": "code",
   "execution_count": 3,
   "id": "0159551c",
   "metadata": {},
   "outputs": [],
   "source": [
    "#2022 1inch involved transaction data\n",
    "# data origin from EigenPhi\n",
    "df_1inch_allTxs=pd.read_csv(path+'all_1inch_txs.csv.gz',header=None, names\n",
    "                         =['block','index','tx_hash','from','to','value','transfer_count','input_data','transfers'])"
   ]
  },
  {
   "cell_type": "code",
   "execution_count": 4,
   "id": "108c1309",
   "metadata": {},
   "outputs": [
    {
     "name": "stdout",
     "output_type": "stream",
     "text": [
      "<class 'pandas.core.frame.DataFrame'>\n",
      "RangeIndex: 3714568 entries, 0 to 3714567\n",
      "Data columns (total 9 columns):\n",
      " #   Column          Dtype \n",
      "---  ------          ----- \n",
      " 0   block           int64 \n",
      " 1   index           int64 \n",
      " 2   tx_hash         object\n",
      " 3   from            object\n",
      " 4   to              object\n",
      " 5   value           object\n",
      " 6   transfer_count  int64 \n",
      " 7   input_data      object\n",
      " 8   transfers       object\n",
      "dtypes: int64(3), object(6)\n",
      "memory usage: 255.1+ MB\n"
     ]
    }
   ],
   "source": [
    "df_1inch_allTxs.info()"
   ]
  },
  {
   "cell_type": "code",
   "execution_count": 5,
   "id": "efe663b9",
   "metadata": {},
   "outputs": [],
   "source": [
    "df_to_inch_allTxs=df_1inch_allTxs[df_1inch_allTxs['to'].isin(inch_address)]"
   ]
  },
  {
   "cell_type": "code",
   "execution_count": 6,
   "id": "f0c13707",
   "metadata": {},
   "outputs": [],
   "source": [
    "# 2022 matcha transactions as victims for sandwich attacks\n",
    "# data origin from EigenPhi\n",
    "df_1inch_sandwich_txhash = pd.read_csv(path_output+'1inch_victim_txlist.csv')\n",
    "\n",
    "df_1inch_sandwich_transfer=df_to_inch_allTxs[df_to_inch_allTxs['tx_hash'].isin(df_1inch_sandwich_txhash['tx_hash'])]\n"
   ]
  },
  {
   "cell_type": "code",
   "execution_count": 5,
   "id": "68c0c1f0",
   "metadata": {},
   "outputs": [],
   "source": [
    "df_1inch_sandwich=pd.read_csv(path_output+'1inch_victim_txs.csv')"
   ]
  },
  {
   "cell_type": "code",
   "execution_count": 10,
   "id": "29f04f7d",
   "metadata": {},
   "outputs": [],
   "source": [
    "df_1inch_sandwich['datetime']=df_1inch_sandwich['blockTimestamp'].apply(lambda x: \n",
    "                                                                        datetime.fromtimestamp(x,tz=timezone.utc))\n",
    "df_1inch_sandwich['datetime'] = pd.to_datetime(df_1inch_sandwich['datetime']).dt.tz_localize(None)"
   ]
  },
  {
   "cell_type": "code",
   "execution_count": null,
   "id": "74afdb74",
   "metadata": {},
   "outputs": [],
   "source": [
    "# calculat the volume that has been attacked"
   ]
  },
  {
   "cell_type": "code",
   "execution_count": 11,
   "id": "b14efd31",
   "metadata": {},
   "outputs": [],
   "source": [
    "df_1inch_sandwich_price=pd.read_csv(path_output+'1inch_sandwich_withPrice.csv')"
   ]
  },
  {
   "cell_type": "code",
   "execution_count": null,
   "id": "2d1e8aae",
   "metadata": {},
   "outputs": [],
   "source": []
  },
  {
   "cell_type": "code",
   "execution_count": 17,
   "id": "f993f6fb",
   "metadata": {},
   "outputs": [],
   "source": [
    "# filtered the transfer data from the victim transaction data\n",
    "df_all_transfer=df_1inch_sandwich_transfer['transfers'].astype('string').fillna('').apply(lambda x: x.split('|')).explode().reset_index()\n",
    "\n",
    "df_all_transfer[['token','transfer_from','transfer_to','amount']]=df_all_transfer['transfers'].str.split(';', expand=True)\n",
    "\n",
    "df_all_transfer[['tx_hash','from','to']]=df_to_inch_allTxs.loc[df_all_transfer['index']].reset_index()[['tx_hash','from','to']]\n",
    "\n",
    "df_victim_transfer=df_all_transfer[df_all_transfer['tx_hash'].isin(df_1inch_sandwich_txhash['tx_hash'])]"
   ]
  },
  {
   "cell_type": "code",
   "execution_count": 19,
   "id": "3b91493c",
   "metadata": {},
   "outputs": [],
   "source": [
    "df_1inch_sandwich_flat = df_1inch_sandwich['victimTxs'].apply(lambda x: x.rstrip().split(' ')).explode().reset_index()\n",
    "df_1inch_sandwich_flat[['transactionHash','lps'\n",
    "                        ]]=df_1inch_sandwich.loc[df_1inch_sandwich_flat['index']].reset_index()[['transactionHash','lps']]"
   ]
  },
  {
   "cell_type": "code",
   "execution_count": 21,
   "id": "b867e9b4",
   "metadata": {},
   "outputs": [],
   "source": [
    "df_merge_1=df_1inch_sandwich_flat[['transactionHash','victimTxs','lps']].merge(\n",
    "    df_victim_transfer[['tx_hash','transfer_from','transfer_to','token','amount']],left_on='victimTxs',\n",
    "    right_on='tx_hash',how='left')"
   ]
  },
  {
   "cell_type": "code",
   "execution_count": 22,
   "id": "822bfa68",
   "metadata": {},
   "outputs": [],
   "source": [
    "df_merge_1['lps']=df_merge_1['lps'].apply(lambda x: x.split(' '))\n",
    "\n",
    "df_merge_1=df_merge_1.explode('lps')"
   ]
  },
  {
   "cell_type": "code",
   "execution_count": 23,
   "id": "1b44d38a",
   "metadata": {},
   "outputs": [],
   "source": [
    "df_victim_volume=df_merge_1[\n",
    "    (df_merge_1['lps']==df_merge_1['transfer_from']) | (df_merge_1['lps']==df_merge_1['transfer_to'])]"
   ]
  },
  {
   "cell_type": "code",
   "execution_count": 24,
   "id": "a8d597c7",
   "metadata": {},
   "outputs": [],
   "source": [
    "df_token_decimals=pd.read_csv(path+'token_decimals.csv')\n",
    "df_token_decimals=df_token_decimals[['address','decimals']].groupby('address').agg({'decimals':'max'}).reset_index()"
   ]
  },
  {
   "cell_type": "code",
   "execution_count": 26,
   "id": "e5742a3d",
   "metadata": {},
   "outputs": [],
   "source": [
    "#calculate the victim volume based on the token price and transfer amount\n",
    "df_victim_volume=df_victim_volume.merge(\n",
    "    df_token_decimals[['address','decimals']],left_on='token',right_on='address',how='left')\n",
    "\n",
    "df_victim_volume=df_victim_volume.merge(df_1inch_sandwich_price,on='transactionHash',how='left')\n",
    "\n",
    "df_victim_volume=df_victim_volume[df_victim_volume['token_x']==df_victim_volume['token_y']].reset_index()\n",
    "\n",
    "df_victim_volume['amount']=df_victim_volume['amount'].astype(float)*df_victim_volume['decimals'].apply(lambda x: 10**(-x))\n",
    "\n",
    "df_victim_volume['price']=df_victim_volume['price'].astype(float)\n",
    "\n",
    "df_victim_volume['V_volume']=df_victim_volume['price']*df_victim_volume['amount']\n",
    "\n",
    "df_victim_volume=df_victim_volume.dropna()\n",
    "\n",
    "def select_value(group):\n",
    "    if '0xdac17f958d2ee523a2206206994597c13d831ec7' in group['token_y'].values:\n",
    "        return group.loc[group['token_y'] == '0xdac17f958d2ee523a2206206994597c13d831ec7','V_volume'].values[0]\n",
    "    elif '0xc02aaa39b223fe8d0a0e5c4f27ead9083c756cc2' in group['token_y'].values:\n",
    "        return group.loc[group['token_y'] == '0xc02aaa39b223fe8d0a0e5c4f27ead9083c756cc2']['V_volume'].values[0]\n",
    "    elif '0xa0b86991c6218b36c1d19d4a2e9eb0ce3606eb48' in group['token_y'].values:\n",
    "        return group.loc[group['token_y'] == '0xa0b86991c6218b36c1d19d4a2e9eb0ce3606eb48']['V_volume'].values[0]\n",
    "    elif '0x6b175474e89094c44da98b954eedeac495271d0f' in group['token_y'].values:\n",
    "        return group.loc[group['token_y'] == '0x6b175474e89094c44da98b954eedeac495271d0f']['V_volume'].values[0] \n",
    "    elif '0x2260fac5e5542a773aa44fbcfedf7c193bc2c599' in group['token_y'].values:\n",
    "        return group.loc[group['token_y'] == '0x2260fac5e5542a773aa44fbcfedf7c193bc2c599']['V_volume'].values[0] \n",
    "    else:\n",
    "        return group['V_volume'].max()\n",
    "\n",
    "df_victim_volume_final=df_victim_volume.groupby(\n",
    "    ['transactionHash','victimTxs']).apply(select_value).reset_index()"
   ]
  },
  {
   "cell_type": "code",
   "execution_count": 49,
   "id": "4607ace3",
   "metadata": {},
   "outputs": [],
   "source": [
    "df_victim_volume_final.to_csv(path+'1inch_victim_volume.csv')"
   ]
  },
  {
   "cell_type": "code",
   "execution_count": null,
   "id": "6be945bf",
   "metadata": {},
   "outputs": [],
   "source": []
  }
 ],
 "metadata": {
  "kernelspec": {
   "display_name": "Python 3 (ipykernel)",
   "language": "python",
   "name": "python3"
  },
  "language_info": {
   "codemirror_mode": {
    "name": "ipython",
    "version": 3
   },
   "file_extension": ".py",
   "mimetype": "text/x-python",
   "name": "python",
   "nbconvert_exporter": "python",
   "pygments_lexer": "ipython3",
   "version": "3.9.13"
  }
 },
 "nbformat": 4,
 "nbformat_minor": 5
}
