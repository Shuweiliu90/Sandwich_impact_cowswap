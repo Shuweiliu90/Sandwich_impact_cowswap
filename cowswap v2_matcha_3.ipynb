{
 "cells": [
  {
   "cell_type": "code",
   "execution_count": 11,
   "id": "dc6dd30f",
   "metadata": {},
   "outputs": [],
   "source": [
    "import pandas as pd\n",
    "from datetime import datetime, timezone,timedelta,date\n",
    "import numpy as np\n",
    "import matplotlib.pyplot as plt\n",
    "import matplotlib.dates as mdates\n",
    "import matplotlib.ticker as ticker\n",
    "import seaborn as sns\n",
    "from itertools import islice\n",
    "import json\n",
    "from web3 import Web3\n",
    "import matplotlib.ticker as mtick\n",
    "path = \"\"\n",
    "path_output=\"\""
   ]
  },
  {
   "cell_type": "code",
   "execution_count": 2,
   "id": "e6fcf988",
   "metadata": {},
   "outputs": [],
   "source": [
    "matcha_address=['0xdef1c0ded9bec7f1a1670819833240f027b25eff',\n",
    "               '0x61935cbdd02287b511119ddb11aeb42f1593b7ef']"
   ]
  },
  {
   "cell_type": "code",
   "execution_count": 3,
   "id": "ad97cd69",
   "metadata": {},
   "outputs": [],
   "source": [
    "#2022 matcha involved transaction data\n",
    "df_matcha_allTxs=pd.read_csv(path+'matcha_txs.csv.gz',header=None, names\n",
    "                         =['block','index','tx_hash','from','to','value','transfer_count','input_data','transfers'])"
   ]
  },
  {
   "cell_type": "code",
   "execution_count": 4,
   "id": "dcbd45a3",
   "metadata": {},
   "outputs": [
    {
     "name": "stdout",
     "output_type": "stream",
     "text": [
      "<class 'pandas.core.frame.DataFrame'>\n",
      "RangeIndex: 2551247 entries, 0 to 2551246\n",
      "Data columns (total 9 columns):\n",
      " #   Column          Dtype \n",
      "---  ------          ----- \n",
      " 0   block           int64 \n",
      " 1   index           int64 \n",
      " 2   tx_hash         object\n",
      " 3   from            object\n",
      " 4   to              object\n",
      " 5   value           object\n",
      " 6   transfer_count  int64 \n",
      " 7   input_data      object\n",
      " 8   transfers       object\n",
      "dtypes: int64(3), object(6)\n",
      "memory usage: 175.2+ MB\n"
     ]
    }
   ],
   "source": [
    "df_matcha_allTxs.info()"
   ]
  },
  {
   "cell_type": "code",
   "execution_count": 7,
   "id": "3e5ddb60",
   "metadata": {},
   "outputs": [],
   "source": [
    "df_to_matcha_allTxs=df_matcha_allTxs[df_matcha_allTxs['to'].isin(matcha_address)]"
   ]
  },
  {
   "cell_type": "code",
   "execution_count": 13,
   "id": "85f8076f",
   "metadata": {},
   "outputs": [],
   "source": [
    "# 2022 matcha transactions as victims for sandwich attacks\n",
    "# data origin from EigenPhi\n",
    "df_matcha_sandwich_txhash=pd.read_csv(path_output+'matcha_victim_txlist.csv')\n",
    "df_matcha_sandwich=pd.read_csv(path_output+'matcha_victim_txs.csv')"
   ]
  },
  {
   "cell_type": "code",
   "execution_count": 14,
   "id": "aaadff64",
   "metadata": {},
   "outputs": [
    {
     "data": {
      "text/plain": [
       "Unnamed: 0    0.019245\n",
       "tx_hash       0.019245\n",
       "dtype: float64"
      ]
     },
     "execution_count": 14,
     "metadata": {},
     "output_type": "execute_result"
    }
   ],
   "source": [
    "df_matcha_sandwich_txhash.count()/df_to_matcha_allTxs.count()['tx_hash']"
   ]
  },
  {
   "cell_type": "code",
   "execution_count": 16,
   "id": "d9a2700a",
   "metadata": {},
   "outputs": [
    {
     "name": "stderr",
     "output_type": "stream",
     "text": [
      "/var/folders/6b/m6620wh92lnbqjd1dz1tb0n40000gn/T/ipykernel_4574/3930031972.py:1: SettingWithCopyWarning: \n",
      "A value is trying to be set on a copy of a slice from a DataFrame.\n",
      "Try using .loc[row_indexer,col_indexer] = value instead\n",
      "\n",
      "See the caveats in the documentation: https://pandas.pydata.org/pandas-docs/stable/user_guide/indexing.html#returning-a-view-versus-a-copy\n",
      "  df_matcha_sandwich['datetime']=df_matcha_sandwich['blockTimestamp'].apply(lambda x:\n",
      "/var/folders/6b/m6620wh92lnbqjd1dz1tb0n40000gn/T/ipykernel_4574/3930031972.py:3: SettingWithCopyWarning: \n",
      "A value is trying to be set on a copy of a slice from a DataFrame.\n",
      "Try using .loc[row_indexer,col_indexer] = value instead\n",
      "\n",
      "See the caveats in the documentation: https://pandas.pydata.org/pandas-docs/stable/user_guide/indexing.html#returning-a-view-versus-a-copy\n",
      "  df_matcha_sandwich['datetime'] = pd.to_datetime(df_matcha_sandwich['datetime']).dt.tz_localize(None)\n"
     ]
    }
   ],
   "source": [
    "#datetime format\n",
    "df_matcha_sandwich['datetime']=df_matcha_sandwich['blockTimestamp'].apply(lambda x: \n",
    "                                                                        datetime.fromtimestamp(x,tz=timezone.utc))\n",
    "df_matcha_sandwich['datetime'] = pd.to_datetime(df_matcha_sandwich['datetime']).dt.tz_localize(None)\n",
    "df_matcha_sandwich=df_matcha_sandwich.reset_index()"
   ]
  },
  {
   "cell_type": "code",
   "execution_count": 18,
   "id": "76fb815a",
   "metadata": {},
   "outputs": [],
   "source": [
    "# calculat the volume that has been attacked"
   ]
  },
  {
   "cell_type": "code",
   "execution_count": 47,
   "id": "0d4cab9e",
   "metadata": {},
   "outputs": [],
   "source": [
    "df_matcha_sandwich_price=pd.read_csv(path_output+'matcha_sandwich_withPrice.csv')"
   ]
  },
  {
   "cell_type": "code",
   "execution_count": 26,
   "id": "11fc6a9c",
   "metadata": {},
   "outputs": [],
   "source": [
    "# filtered the transfer data from the victim transaction data\n",
    "df_all_transfer=df_to_matcha_allTxs['transfers'].astype('string').fillna('').apply(lambda x: x.split('|')).explode().reset_index()\n",
    "\n",
    "df_all_transfer[['token','transfer_from','transfer_to','amount']]=df_all_transfer['transfers'].str.split(';', expand=True)\n",
    "\n",
    "df_all_transfer[['tx_hash','from','to']]=df_to_matcha_allTxs.loc[df_all_transfer['index']].reset_index()[['tx_hash','from','to']]\n",
    "\n",
    "df_victim_transfer=df_all_transfer[df_all_transfer['tx_hash'].isin(df_matcha_sandwich_txhash['tx_hash'])]"
   ]
  },
  {
   "cell_type": "code",
   "execution_count": 28,
   "id": "8d495ec8",
   "metadata": {},
   "outputs": [],
   "source": [
    "df_matcha_sandwich_flat = df_matcha_sandwich['victimTxs'].apply(lambda x: x.rstrip().split(' ')).explode().reset_index()\n",
    "df_matcha_sandwich_flat[['transactionHash','lps']]=df_matcha_sandwich.loc[df_matcha_sandwich_flat['index']].reset_index()[['transactionHash','lps']]"
   ]
  },
  {
   "cell_type": "code",
   "execution_count": 29,
   "id": "cdbc1ad5",
   "metadata": {},
   "outputs": [],
   "source": [
    "df_merge_1=df_matcha_sandwich_flat[['transactionHash','victimTxs','lps']].merge(\n",
    "    df_victim_transfer[['tx_hash','transfer_from','transfer_to','token','amount']],left_on='victimTxs',\n",
    "    right_on='tx_hash',how='left')\n"
   ]
  },
  {
   "cell_type": "code",
   "execution_count": 30,
   "id": "45ebdea4",
   "metadata": {},
   "outputs": [],
   "source": [
    "df_merge_1['lps']=df_merge_1['lps'].apply(lambda x: x.split(' '))\n",
    "\n",
    "df_merge_1=df_merge_1.explode('lps')"
   ]
  },
  {
   "cell_type": "code",
   "execution_count": 31,
   "id": "484e2f8a",
   "metadata": {},
   "outputs": [],
   "source": [
    "df_victim_volume=df_merge_1[\n",
    "    (df_merge_1['lps']==df_merge_1['transfer_from']) | (df_merge_1['lps']==df_merge_1['transfer_to'])]"
   ]
  },
  {
   "cell_type": "code",
   "execution_count": 32,
   "id": "b9621127",
   "metadata": {},
   "outputs": [],
   "source": [
    "df_token_decimals=pd.read_csv(path+'token_decimals.csv')\n",
    "\n",
    "df_token_decimals=df_token_decimals[['address','decimals']].groupby('address').agg({'decimals':'max'}).reset_index()"
   ]
  },
  {
   "cell_type": "code",
   "execution_count": 34,
   "id": "1cd9b0c4",
   "metadata": {},
   "outputs": [],
   "source": [
    "#calculate the victim volume based on the token price and transfer amount\n",
    "df_victim_volume=df_victim_volume.merge(\n",
    "    df_token_decimals[['address','decimals']],left_on='token',right_on='address',how='left')\n",
    "\n",
    "df_victim_volume=df_victim_volume.merge(df_matcha_sandwich_price,on='transactionHash',how='left')\n",
    "\n",
    "df_victim_volume=df_victim_volume[df_victim_volume['token_x']==df_victim_volume['token_y']].reset_index()\n",
    "\n",
    "df_victim_volume['amount']=df_victim_volume['amount'].astype(float)*df_victim_volume['decimals'].apply(lambda x: 10**(-x))\n",
    "\n",
    "df_victim_volume['price']=df_victim_volume['price'].astype(float)\n",
    "\n",
    "df_victim_volume['V_volume']=df_victim_volume['price']*df_victim_volume['amount']\n",
    "\n",
    "df_victim_volume=df_victim_volume.dropna()\n",
    "\n",
    "df_victim_volume_final=df_victim_volume[['transactionHash','victimTxs','V_volume']].groupby(\n",
    "    ['transactionHash','victimTxs']).agg({'V_volume':'max'}).reset_index()\n",
    "\n",
    "def select_value(group):\n",
    "    if '0xdac17f958d2ee523a2206206994597c13d831ec7' in group['token_y'].values:\n",
    "        return group.loc[group['token_y'] == '0xdac17f958d2ee523a2206206994597c13d831ec7','V_volume'].values[0]\n",
    "    elif '0xc02aaa39b223fe8d0a0e5c4f27ead9083c756cc2' in group['token_y'].values:\n",
    "        return group.loc[group['token_y'] == '0xc02aaa39b223fe8d0a0e5c4f27ead9083c756cc2']['V_volume'].values[0]\n",
    "    elif '0xa0b86991c6218b36c1d19d4a2e9eb0ce3606eb48' in group['token_y'].values:\n",
    "        return group.loc[group['token_y'] == '0xa0b86991c6218b36c1d19d4a2e9eb0ce3606eb48']['V_volume'].values[0]\n",
    "    elif '0x6b175474e89094c44da98b954eedeac495271d0f' in group['token_y'].values:\n",
    "        return group.loc[group['token_y'] == '0x6b175474e89094c44da98b954eedeac495271d0f']['V_volume'].values[0] \n",
    "    elif '0x2260fac5e5542a773aa44fbcfedf7c193bc2c599' in group['token_y'].values:\n",
    "        return group.loc[group['token_y'] == '0x2260fac5e5542a773aa44fbcfedf7c193bc2c599']['V_volume'].values[0] \n",
    "    else:\n",
    "        return group['V_volume'].max()\n",
    "\n",
    "df_victim_volume_final=df_victim_volume.groupby(\n",
    "    ['transactionHash','victimTxs']).apply(select_value).reset_index()"
   ]
  },
  {
   "cell_type": "code",
   "execution_count": 44,
   "id": "c847d99a",
   "metadata": {},
   "outputs": [],
   "source": [
    "df_victim_volume_final.to_csv(path+'matcha_victim_volume.csv')"
   ]
  },
  {
   "cell_type": "code",
   "execution_count": null,
   "id": "ebcd2a0d",
   "metadata": {},
   "outputs": [],
   "source": []
  }
 ],
 "metadata": {
  "kernelspec": {
   "display_name": "Python 3 (ipykernel)",
   "language": "python",
   "name": "python3"
  },
  "language_info": {
   "codemirror_mode": {
    "name": "ipython",
    "version": 3
   },
   "file_extension": ".py",
   "mimetype": "text/x-python",
   "name": "python",
   "nbconvert_exporter": "python",
   "pygments_lexer": "ipython3",
   "version": "3.9.13"
  }
 },
 "nbformat": 4,
 "nbformat_minor": 5
}
